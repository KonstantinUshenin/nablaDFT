{
 "cells": [
  {
   "cell_type": "markdown",
   "id": "55d87696",
   "metadata": {},
   "source": [
    "# Work with metainformation.\n",
    "\n",
    "NablaDFT includes three independent dataset. You can mix data from several datasets and fuse records together using unique identifiers of the molecule and conformation. \n",
    "\n",
    "Each record have two ids:\n",
    "- `moses_id` is an index of molecule in the MOSES database.\n",
    "- `conformation_id` is an index of conformation for the specific molecule. \n",
    "\n",
    "Order of records in three databases of nablaDFT are not compatible, but `moses_id` and `conformation_id` are unique identifiers of conformation and molecule across all databases."
   ]
  },
  {
   "cell_type": "code",
   "execution_count": 40,
   "id": "d876ed74",
   "metadata": {},
   "outputs": [],
   "source": [
    "import ase\n",
    "from ase.db import connect"
   ]
  },
  {
   "cell_type": "code",
   "execution_count": 41,
   "id": "f5aecf2c",
   "metadata": {},
   "outputs": [
    {
     "name": "stdout",
     "output_type": "stream",
     "text": [
      "{'moses_id': 164, 'conformation_id': 0, 'smiles': 'CCOC(=O)C1CN(Cc2ccccc2)C(=O)C1=O'}\n",
      "{'_distance_unit': 'Ang', '_property_unit_dict': {'energy': 'Hartree', 'forces': 'Hartree/Ang'}}\n"
     ]
    }
   ],
   "source": [
    "with connect(\"train_2k_v2_formation_energy_w_forces.db\") as train_db:\n",
    "    atom_row = train_db.get(1)\n",
    "    print(atom_row.key_value_pairs)\n",
    "    print(train_db.metadata)\n",
    "    # row = atom_row.toatoms() "
   ]
  },
  {
   "cell_type": "markdown",
   "id": "3d775861",
   "metadata": {},
   "source": [
    "In advance, you can work with SMILES, energy dictionary of PSI4, the HOMO-LUMO gap, dipoles and other parameters of molecule and conformation via `summary.csv`. This file is much smaller in comparison with the full dataset of raw PSI4 wavefunctions."
   ]
  },
  {
   "cell_type": "code",
   "execution_count": 42,
   "id": "ae059cdc",
   "metadata": {},
   "outputs": [],
   "source": [
    "import pandas as pd"
   ]
  },
  {
   "cell_type": "code",
   "execution_count": 43,
   "id": "be96eec8",
   "metadata": {},
   "outputs": [],
   "source": [
    "summary = pd.read_csv('summary.csv', index_col=0, nrows=100)"
   ]
  },
  {
   "cell_type": "code",
   "execution_count": 44,
   "id": "3b37d267",
   "metadata": {},
   "outputs": [
    {
     "data": {
      "text/plain": [
       "Index(['MOSES id', 'CONFORMER id', 'archive name', 'SMILES',\n",
       "       'DFT TOTAL ENERGY', 'DFT XC ENERGY', 'DFT NUCLEAR REPULSION ENERGY',\n",
       "       'DFT ONE-ELECTRON ENERGY', 'DFT TWO-ELECTRON ENERGY', 'DFT DIPOLE X',\n",
       "       'DFT DIPOLE Y', 'DFT DIPOLE Z', 'DFT TOTAL DIPOLE',\n",
       "       'DFT ROT CONSTANT A', 'DFT ROT CONSTANT B', 'DFT ROT CONSTANT C',\n",
       "       'DFT HOMO', 'DFT LUMO', 'DFT HOMO-LUMO GAP', 'DFT ATOMIC ENERGY',\n",
       "       'DFT FORMATION ENERGY'],\n",
       "      dtype='object')"
      ]
     },
     "execution_count": 44,
     "metadata": {},
     "output_type": "execute_result"
    }
   ],
   "source": [
    "summary.columns"
   ]
  },
  {
   "cell_type": "code",
   "execution_count": 45,
   "id": "e71e8f0a",
   "metadata": {},
   "outputs": [
    {
     "data": {
      "text/html": [
       "<div>\n",
       "<style scoped>\n",
       "    .dataframe tbody tr th:only-of-type {\n",
       "        vertical-align: middle;\n",
       "    }\n",
       "\n",
       "    .dataframe tbody tr th {\n",
       "        vertical-align: top;\n",
       "    }\n",
       "\n",
       "    .dataframe thead th {\n",
       "        text-align: right;\n",
       "    }\n",
       "</style>\n",
       "<table border=\"1\" class=\"dataframe\">\n",
       "  <thead>\n",
       "    <tr style=\"text-align: right;\">\n",
       "      <th></th>\n",
       "      <th>MOSES id</th>\n",
       "      <th>CONFORMER id</th>\n",
       "      <th>SMILES</th>\n",
       "    </tr>\n",
       "    <tr>\n",
       "      <th>id</th>\n",
       "      <th></th>\n",
       "      <th></th>\n",
       "      <th></th>\n",
       "    </tr>\n",
       "  </thead>\n",
       "  <tbody>\n",
       "    <tr>\n",
       "      <th>1216192</th>\n",
       "      <td>1</td>\n",
       "      <td>0</td>\n",
       "      <td>CC(C)(C)C(=O)C(Oc1ccc(Cl)cc1)n1ccnc1</td>\n",
       "    </tr>\n",
       "    <tr>\n",
       "      <th>1216193</th>\n",
       "      <td>1</td>\n",
       "      <td>1</td>\n",
       "      <td>CC(C)(C)C(=O)C(Oc1ccc(Cl)cc1)n1ccnc1</td>\n",
       "    </tr>\n",
       "    <tr>\n",
       "      <th>1216194</th>\n",
       "      <td>1</td>\n",
       "      <td>2</td>\n",
       "      <td>CC(C)(C)C(=O)C(Oc1ccc(Cl)cc1)n1ccnc1</td>\n",
       "    </tr>\n",
       "    <tr>\n",
       "      <th>1216195</th>\n",
       "      <td>1</td>\n",
       "      <td>3</td>\n",
       "      <td>CC(C)(C)C(=O)C(Oc1ccc(Cl)cc1)n1ccnc1</td>\n",
       "    </tr>\n",
       "    <tr>\n",
       "      <th>1216196</th>\n",
       "      <td>1</td>\n",
       "      <td>4</td>\n",
       "      <td>CC(C)(C)C(=O)C(Oc1ccc(Cl)cc1)n1ccnc1</td>\n",
       "    </tr>\n",
       "    <tr>\n",
       "      <th>...</th>\n",
       "      <td>...</td>\n",
       "      <td>...</td>\n",
       "      <td>...</td>\n",
       "    </tr>\n",
       "    <tr>\n",
       "      <th>1216287</th>\n",
       "      <td>26</td>\n",
       "      <td>4</td>\n",
       "      <td>CC(c1ncncc1F)C(O)(Cn1cncn1)c1ccc(F)cc1F</td>\n",
       "    </tr>\n",
       "    <tr>\n",
       "      <th>1216288</th>\n",
       "      <td>26</td>\n",
       "      <td>5</td>\n",
       "      <td>CC(c1ncncc1F)C(O)(Cn1cncn1)c1ccc(F)cc1F</td>\n",
       "    </tr>\n",
       "    <tr>\n",
       "      <th>1216289</th>\n",
       "      <td>26</td>\n",
       "      <td>6</td>\n",
       "      <td>CC(c1ncncc1F)C(O)(Cn1cncn1)c1ccc(F)cc1F</td>\n",
       "    </tr>\n",
       "    <tr>\n",
       "      <th>1216290</th>\n",
       "      <td>26</td>\n",
       "      <td>7</td>\n",
       "      <td>CC(c1ncncc1F)C(O)(Cn1cncn1)c1ccc(F)cc1F</td>\n",
       "    </tr>\n",
       "    <tr>\n",
       "      <th>1216291</th>\n",
       "      <td>26</td>\n",
       "      <td>8</td>\n",
       "      <td>CC(c1ncncc1F)C(O)(Cn1cncn1)c1ccc(F)cc1F</td>\n",
       "    </tr>\n",
       "  </tbody>\n",
       "</table>\n",
       "<p>100 rows × 3 columns</p>\n",
       "</div>"
      ],
      "text/plain": [
       "         MOSES id  CONFORMER id                                   SMILES\n",
       "id                                                                      \n",
       "1216192         1             0     CC(C)(C)C(=O)C(Oc1ccc(Cl)cc1)n1ccnc1\n",
       "1216193         1             1     CC(C)(C)C(=O)C(Oc1ccc(Cl)cc1)n1ccnc1\n",
       "1216194         1             2     CC(C)(C)C(=O)C(Oc1ccc(Cl)cc1)n1ccnc1\n",
       "1216195         1             3     CC(C)(C)C(=O)C(Oc1ccc(Cl)cc1)n1ccnc1\n",
       "1216196         1             4     CC(C)(C)C(=O)C(Oc1ccc(Cl)cc1)n1ccnc1\n",
       "...           ...           ...                                      ...\n",
       "1216287        26             4  CC(c1ncncc1F)C(O)(Cn1cncn1)c1ccc(F)cc1F\n",
       "1216288        26             5  CC(c1ncncc1F)C(O)(Cn1cncn1)c1ccc(F)cc1F\n",
       "1216289        26             6  CC(c1ncncc1F)C(O)(Cn1cncn1)c1ccc(F)cc1F\n",
       "1216290        26             7  CC(c1ncncc1F)C(O)(Cn1cncn1)c1ccc(F)cc1F\n",
       "1216291        26             8  CC(c1ncncc1F)C(O)(Cn1cncn1)c1ccc(F)cc1F\n",
       "\n",
       "[100 rows x 3 columns]"
      ]
     },
     "execution_count": 45,
     "metadata": {},
     "output_type": "execute_result"
    }
   ],
   "source": [
    "summary[['MOSES id', 'CONFORMER id', 'SMILES']]"
   ]
  }
 ],
 "metadata": {
  "kernelspec": {
   "display_name": "Python 3.10 (p4env)",
   "language": "python",
   "name": "p4env"
  },
  "language_info": {
   "codemirror_mode": {
    "name": "ipython",
    "version": 3
   },
   "file_extension": ".py",
   "mimetype": "text/x-python",
   "name": "python",
   "nbconvert_exporter": "python",
   "pygments_lexer": "ipython3",
   "version": "3.10.13"
  }
 },
 "nbformat": 4,
 "nbformat_minor": 5
}
